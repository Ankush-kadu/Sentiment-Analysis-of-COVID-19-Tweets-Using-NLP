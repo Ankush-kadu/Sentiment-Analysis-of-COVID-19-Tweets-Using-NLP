{
  "cells": [
    {
      "cell_type": "markdown",
      "metadata": {
        "id": "view-in-github",
        "colab_type": "text"
      },
      "source": [
        "<a href=\"https://colab.research.google.com/github/Ankush-kadu/Sentiment-Analysis-of-COVID-19-Tweets-Using-NLP/blob/main/Sentiment_Analysis_of_COVID_19_Tweets_Using_NLP.ipynb\" target=\"_parent\"><img src=\"https://colab.research.google.com/assets/colab-badge.svg\" alt=\"Open In Colab\"/></a>"
      ]
    },
    {
      "cell_type": "code",
      "execution_count": null,
      "metadata": {
        "colab": {
          "base_uri": "https://localhost:8080/"
        },
        "id": "DTyBt-Bt7dpx",
        "outputId": "960c4464-d067-479d-f9fc-4c5aa1594f0d"
      },
      "outputs": [
        {
          "name": "stdout",
          "output_type": "stream",
          "text": [
            "Looking in indexes: https://pypi.org/simple, https://us-python.pkg.dev/colab-wheels/public/simple/\n",
            "Requirement already satisfied: nltk in /usr/local/lib/python3.7/dist-packages (3.7)\n",
            "Requirement already satisfied: tqdm in /usr/local/lib/python3.7/dist-packages (from nltk) (4.64.1)\n",
            "Requirement already satisfied: regex>=2021.8.3 in /usr/local/lib/python3.7/dist-packages (from nltk) (2022.6.2)\n",
            "Requirement already satisfied: joblib in /usr/local/lib/python3.7/dist-packages (from nltk) (1.2.0)\n",
            "Requirement already satisfied: click in /usr/local/lib/python3.7/dist-packages (from nltk) (7.1.2)\n"
          ]
        },
        {
          "name": "stderr",
          "output_type": "stream",
          "text": [
            "[nltk_data] Downloading package punkt to /root/nltk_data...\n",
            "[nltk_data]   Package punkt is already up-to-date!\n"
          ]
        },
        {
          "data": {
            "text/plain": [
              "True"
            ]
          },
          "execution_count": 55,
          "metadata": {},
          "output_type": "execute_result"
        }
      ],
      "source": [
        "import os\n",
        "import re\n",
        "import random\n",
        "import string      # for string operations\n",
        "import pandas as pd\n",
        "import numpy as np\n",
        "import matplotlib.pyplot as plt\n",
        "from sklearn.model_selection import train_test_split\n",
        "from sklearn.linear_model import LogisticRegression\n",
        "# SetUp NLTK\n",
        "!pip install --user -U nltk\n",
        "import nltk\n",
        "nltk.download('punkt')\n"
      ],
      "id": "DTyBt-Bt7dpx"
    },
    {
      "cell_type": "code",
      "execution_count": null,
      "metadata": {
        "colab": {
          "base_uri": "https://localhost:8080/"
        },
        "id": "PZI-AFvGRrB9",
        "outputId": "aa02715b-23a1-445d-f88e-de81187ea467"
      },
      "outputs": [
        {
          "name": "stdout",
          "output_type": "stream",
          "text": [
            "Downloading...\n",
            "From: https://drive.google.com/uc?id=11LWo5nagSmC72hOJM9lm2l05sdQxt4rf\n",
            "To: /content/corona_tweets.csv\n",
            "\r  0% 0.00/1.00M [00:00<?, ?B/s]\r100% 1.00M/1.00M [00:00<00:00, 101MB/s]\n"
          ]
        }
      ],
      "source": [
        "!gdown 11LWo5nagSmC72hOJM9lm2l05sdQxt4rf"
      ],
      "id": "PZI-AFvGRrB9"
    },
    {
      "cell_type": "code",
      "execution_count": null,
      "metadata": {
        "colab": {
          "base_uri": "https://localhost:8080/",
          "height": 206
        },
        "id": "vduFDTR4lmbd",
        "outputId": "102a66c7-92b3-4cdf-ed19-ac21f318e433"
      },
      "outputs": [
        {
          "data": {
            "text/html": [
              "\n",
              "  <div id=\"df-68fce774-58fc-4871-a8b4-1dedfbeb7e3d\">\n",
              "    <div class=\"colab-df-container\">\n",
              "      <div>\n",
              "<style scoped>\n",
              "    .dataframe tbody tr th:only-of-type {\n",
              "        vertical-align: middle;\n",
              "    }\n",
              "\n",
              "    .dataframe tbody tr th {\n",
              "        vertical-align: top;\n",
              "    }\n",
              "\n",
              "    .dataframe thead th {\n",
              "        text-align: right;\n",
              "    }\n",
              "</style>\n",
              "<table border=\"1\" class=\"dataframe\">\n",
              "  <thead>\n",
              "    <tr style=\"text-align: right;\">\n",
              "      <th></th>\n",
              "      <th>UserName</th>\n",
              "      <th>ScreenName</th>\n",
              "      <th>Location</th>\n",
              "      <th>TweetAt</th>\n",
              "      <th>OriginalTweet</th>\n",
              "      <th>Sentiment</th>\n",
              "    </tr>\n",
              "  </thead>\n",
              "  <tbody>\n",
              "    <tr>\n",
              "      <th>0</th>\n",
              "      <td>1</td>\n",
              "      <td>44953</td>\n",
              "      <td>NYC</td>\n",
              "      <td>02-03-2020</td>\n",
              "      <td>TRENDING: New Yorkers encounter empty supermar...</td>\n",
              "      <td>Extremely Negative</td>\n",
              "    </tr>\n",
              "    <tr>\n",
              "      <th>1</th>\n",
              "      <td>2</td>\n",
              "      <td>44954</td>\n",
              "      <td>Seattle, WA</td>\n",
              "      <td>02-03-2020</td>\n",
              "      <td>When I couldn't find hand sanitizer at Fred Me...</td>\n",
              "      <td>Positive</td>\n",
              "    </tr>\n",
              "    <tr>\n",
              "      <th>2</th>\n",
              "      <td>3</td>\n",
              "      <td>44955</td>\n",
              "      <td>NaN</td>\n",
              "      <td>02-03-2020</td>\n",
              "      <td>Find out how you can protect yourself and love...</td>\n",
              "      <td>Extremely Positive</td>\n",
              "    </tr>\n",
              "    <tr>\n",
              "      <th>3</th>\n",
              "      <td>4</td>\n",
              "      <td>44956</td>\n",
              "      <td>Chicagoland</td>\n",
              "      <td>02-03-2020</td>\n",
              "      <td>#Panic buying hits #NewYork City as anxious sh...</td>\n",
              "      <td>Negative</td>\n",
              "    </tr>\n",
              "    <tr>\n",
              "      <th>4</th>\n",
              "      <td>5</td>\n",
              "      <td>44957</td>\n",
              "      <td>Melbourne, Victoria</td>\n",
              "      <td>03-03-2020</td>\n",
              "      <td>#toiletpaper #dunnypaper #coronavirus #coronav...</td>\n",
              "      <td>Neutral</td>\n",
              "    </tr>\n",
              "  </tbody>\n",
              "</table>\n",
              "</div>\n",
              "      <button class=\"colab-df-convert\" onclick=\"convertToInteractive('df-68fce774-58fc-4871-a8b4-1dedfbeb7e3d')\"\n",
              "              title=\"Convert this dataframe to an interactive table.\"\n",
              "              style=\"display:none;\">\n",
              "        \n",
              "  <svg xmlns=\"http://www.w3.org/2000/svg\" height=\"24px\"viewBox=\"0 0 24 24\"\n",
              "       width=\"24px\">\n",
              "    <path d=\"M0 0h24v24H0V0z\" fill=\"none\"/>\n",
              "    <path d=\"M18.56 5.44l.94 2.06.94-2.06 2.06-.94-2.06-.94-.94-2.06-.94 2.06-2.06.94zm-11 1L8.5 8.5l.94-2.06 2.06-.94-2.06-.94L8.5 2.5l-.94 2.06-2.06.94zm10 10l.94 2.06.94-2.06 2.06-.94-2.06-.94-.94-2.06-.94 2.06-2.06.94z\"/><path d=\"M17.41 7.96l-1.37-1.37c-.4-.4-.92-.59-1.43-.59-.52 0-1.04.2-1.43.59L10.3 9.45l-7.72 7.72c-.78.78-.78 2.05 0 2.83L4 21.41c.39.39.9.59 1.41.59.51 0 1.02-.2 1.41-.59l7.78-7.78 2.81-2.81c.8-.78.8-2.07 0-2.86zM5.41 20L4 18.59l7.72-7.72 1.47 1.35L5.41 20z\"/>\n",
              "  </svg>\n",
              "      </button>\n",
              "      \n",
              "  <style>\n",
              "    .colab-df-container {\n",
              "      display:flex;\n",
              "      flex-wrap:wrap;\n",
              "      gap: 12px;\n",
              "    }\n",
              "\n",
              "    .colab-df-convert {\n",
              "      background-color: #E8F0FE;\n",
              "      border: none;\n",
              "      border-radius: 50%;\n",
              "      cursor: pointer;\n",
              "      display: none;\n",
              "      fill: #1967D2;\n",
              "      height: 32px;\n",
              "      padding: 0 0 0 0;\n",
              "      width: 32px;\n",
              "    }\n",
              "\n",
              "    .colab-df-convert:hover {\n",
              "      background-color: #E2EBFA;\n",
              "      box-shadow: 0px 1px 2px rgba(60, 64, 67, 0.3), 0px 1px 3px 1px rgba(60, 64, 67, 0.15);\n",
              "      fill: #174EA6;\n",
              "    }\n",
              "\n",
              "    [theme=dark] .colab-df-convert {\n",
              "      background-color: #3B4455;\n",
              "      fill: #D2E3FC;\n",
              "    }\n",
              "\n",
              "    [theme=dark] .colab-df-convert:hover {\n",
              "      background-color: #434B5C;\n",
              "      box-shadow: 0px 1px 3px 1px rgba(0, 0, 0, 0.15);\n",
              "      filter: drop-shadow(0px 1px 2px rgba(0, 0, 0, 0.3));\n",
              "      fill: #FFFFFF;\n",
              "    }\n",
              "  </style>\n",
              "\n",
              "      <script>\n",
              "        const buttonEl =\n",
              "          document.querySelector('#df-68fce774-58fc-4871-a8b4-1dedfbeb7e3d button.colab-df-convert');\n",
              "        buttonEl.style.display =\n",
              "          google.colab.kernel.accessAllowed ? 'block' : 'none';\n",
              "\n",
              "        async function convertToInteractive(key) {\n",
              "          const element = document.querySelector('#df-68fce774-58fc-4871-a8b4-1dedfbeb7e3d');\n",
              "          const dataTable =\n",
              "            await google.colab.kernel.invokeFunction('convertToInteractive',\n",
              "                                                     [key], {});\n",
              "          if (!dataTable) return;\n",
              "\n",
              "          const docLinkHtml = 'Like what you see? Visit the ' +\n",
              "            '<a target=\"_blank\" href=https://colab.research.google.com/notebooks/data_table.ipynb>data table notebook</a>'\n",
              "            + ' to learn more about interactive tables.';\n",
              "          element.innerHTML = '';\n",
              "          dataTable['output_type'] = 'display_data';\n",
              "          await google.colab.output.renderOutput(dataTable, element);\n",
              "          const docLink = document.createElement('div');\n",
              "          docLink.innerHTML = docLinkHtml;\n",
              "          element.appendChild(docLink);\n",
              "        }\n",
              "      </script>\n",
              "    </div>\n",
              "  </div>\n",
              "  "
            ],
            "text/plain": [
              "   UserName  ScreenName             Location     TweetAt  \\\n",
              "0         1       44953                  NYC  02-03-2020   \n",
              "1         2       44954          Seattle, WA  02-03-2020   \n",
              "2         3       44955                  NaN  02-03-2020   \n",
              "3         4       44956          Chicagoland  02-03-2020   \n",
              "4         5       44957  Melbourne, Victoria  03-03-2020   \n",
              "\n",
              "                                       OriginalTweet           Sentiment  \n",
              "0  TRENDING: New Yorkers encounter empty supermar...  Extremely Negative  \n",
              "1  When I couldn't find hand sanitizer at Fred Me...            Positive  \n",
              "2  Find out how you can protect yourself and love...  Extremely Positive  \n",
              "3  #Panic buying hits #NewYork City as anxious sh...            Negative  \n",
              "4  #toiletpaper #dunnypaper #coronavirus #coronav...             Neutral  "
            ]
          },
          "execution_count": 57,
          "metadata": {},
          "output_type": "execute_result"
        }
      ],
      "source": [
        "dataframe = pd.read_csv(\"./corona_tweets.csv\")\n",
        "dataframe.head()"
      ],
      "id": "vduFDTR4lmbd"
    },
    {
      "cell_type": "markdown",
      "metadata": {
        "id": "b68qqhiKv-9i"
      },
      "source": [
        "### Exploring the labels"
      ],
      "id": "b68qqhiKv-9i"
    },
    {
      "cell_type": "code",
      "execution_count": null,
      "metadata": {
        "colab": {
          "base_uri": "https://localhost:8080/",
          "height": 432
        },
        "id": "iGR78l4QHuxH",
        "outputId": "9f4adb89-18ae-4d3a-dea9-45b9af4104d9"
      },
      "outputs": [
        {
          "name": "stdout",
          "output_type": "stream",
          "text": [
            "Labels in the dataset:  ['Extremely Negative' 'Positive' 'Extremely Positive' 'Negative' 'Neutral']\n",
            "Negative              1041\n",
            "Positive               947\n",
            "Neutral                619\n",
            "Extremely Positive     599\n",
            "Extremely Negative     592\n",
            "Name: Sentiment, dtype: int64\n"
          ]
        },
        {
          "data": {
            "image/png": "[encoded data removed]",
            "text/plain": [
              "<Figure size 360x360 with 1 Axes>"
            ]
          },
          "metadata": {},
          "output_type": "display_data"
        }
      ],
      "source": [
        "# Check tweets distribution\n",
        "def pie_chart(dataframe):\n",
        "  # Converting pd object to list of string\n",
        "  label_types  = dataframe.Sentiment.unique().astype(str)\n",
        "  # Count tweets for each label\n",
        "  label_counts = dataframe.Sentiment.value_counts()\n",
        "  print('Labels in the dataset: ', label_types)\n",
        "  print(label_counts)\n",
        "  # labels for the two classes\n",
        "  labels = label_types #'Positives', 'Negative'\n",
        "  # Sizes for each slide\n",
        "  sizes = [count for count in label_counts]\n",
        "  # Declare a figure with a custom size\n",
        "  fig = plt.figure(figsize=(5, 5))\n",
        "  # Declare pie chart, where the slices will be ordered and plotted counter-clockwise:\n",
        "  plt.pie(sizes, labels=labels, autopct='%1.1f%%',\n",
        "          shadow=True, startangle=90)\n",
        "  # Equal aspect ratio ensures that pie is drawn as a circle.\n",
        "  plt.axis('equal')\n",
        "  # Display the chart\n",
        "  plt.show()\n",
        "\n",
        "pie_chart(dataframe)"
      ],
      "id": "iGR78l4QHuxH"
    },
    {
      "cell_type": "code",
      "execution_count": null,
      "metadata": {
        "colab": {
          "base_uri": "https://localhost:8080/"
        },
        "id": "ZTGRmvrySIfw",
        "outputId": "2cf39db2-9dc7-410d-815b-49eefc793e68"
      },
      "outputs": [
        {
          "data": {
            "text/plain": [
              "(1041,)"
            ]
          },
          "execution_count": 59,
          "metadata": {},
          "output_type": "execute_result"
        }
      ],
      "source": [
        "dataframe[dataframe['Sentiment'] == 'Negative']['OriginalTweet'].shape"
      ],
      "id": "ZTGRmvrySIfw"
    },
    {
      "cell_type": "markdown",
      "metadata": {
        "id": "_hyaet55wG-R"
      },
      "source": [
        "### Splitting the dataset into training and testing\n"
      ],
      "id": "_hyaet55wG-R"
    },
    {
      "cell_type": "code",
      "execution_count": null,
      "metadata": {
        "colab": {
          "base_uri": "https://localhost:8080/"
        },
        "id": "PoZUAb_mdX7E",
        "outputId": "71dad6ae-4f84-47f3-d47a-e57e069a07a3"
      },
      "outputs": [
        {
          "name": "stdout",
          "output_type": "stream",
          "text": [
            "Size of training dataset:  1514\n",
            "Size of testing dataset:  380\n",
            "\u001b[92m\n",
            "positive in green: \n",
            "\u001b[92m@BriSmithy Was always about damage limitation,the self serving newly elected government dragging their heels lower than share prices.Lets hope common decency prevails to help others deal with the pandemic....Suddenly nobody remembers Brexit?..#inthistog\n",
            "\u001b[91m\n",
            "negative in red: \n",
            "\u001b[91mMy sister friend just sent her a screen shot of this and now shes freaking out and went to the store to buy food and stock up on everything! Tbh starting to worry now...all jokes aside #Coronavirus\n"
          ]
        }
      ],
      "source": [
        "# Separating positive_tweets and negative_tweets\n",
        "all_positive_tweets = list(dataframe[dataframe['Sentiment'] == 'Positive']['OriginalTweet'].astype(str)) # Making equal positive and negative tweet counts\n",
        "all_negative_tweets = list(dataframe[dataframe['Sentiment'] == 'Negative']['OriginalTweet'].astype(str))[:947]\n",
        "\n",
        "# Splitting training and testing set. 80/20 split\n",
        "positive_train, positive_test = train_test_split(all_positive_tweets, test_size=0.2, random_state=42)\n",
        "negative_train, negative_test = train_test_split(all_negative_tweets, test_size=0.2, random_state=42)\n",
        "\n",
        "print(\"Size of training dataset: \",len(positive_train) + len(negative_train))\n",
        "print(\"Size of testing dataset: \", len(positive_test)  + len(negative_test))\n",
        "\n",
        "# print positive in green\n",
        "print('\\033[92m' + '\\npositive in green: ')\n",
        "print('\\033[92m' + all_positive_tweets[random.randint(0,947)])\n",
        "print('\\033[91m' + '\\nnegative in red: ')\n",
        "# print negative in red\n",
        "print('\\033[91m' + all_negative_tweets[random.randint(0,947)])"
      ],
      "id": "PoZUAb_mdX7E"
    },
    {
      "cell_type": "code",
      "execution_count": null,
      "metadata": {
        "colab": {
          "base_uri": "https://localhost:8080/"
        },
        "id": "r9q9ehckQ7Bt",
        "outputId": "c053abf7-da33-4f03-ac96-777abba2785a"
      },
      "outputs": [
        {
          "name": "stdout",
          "output_type": "stream",
          "text": [
            "Using Split : ['Consumers', 'have', 'increased', 'their', 'online', 'shopping', 'due', 'to', 'coronavirus.', 'https://t.co/5mYfz3RAD0', '#retail', '#ecommerce', '#study', '#coronavirus', 'https://t.co/Dz3H6zrWUT']\n"
          ]
        }
      ],
      "source": [
        "# Split on spaces\n",
        "tweet = all_positive_tweets[12]\n",
        "word = tweet.split() # space tokenizer\n",
        "print('Using Split :',word)\n"
      ],
      "id": "r9q9ehckQ7Bt"
    },
    {
      "cell_type": "markdown",
      "metadata": {
        "id": "g7E-jFRpQ7Bt"
      },
      "source": [
        "**Note:**  split() does not consider punctuation as a separate token"
      ],
      "id": "g7E-jFRpQ7Bt"
    },
    {
      "cell_type": "code",
      "execution_count": null,
      "metadata": {
        "colab": {
          "base_uri": "https://localhost:8080/"
        },
        "id": "a99jALZAn1gS",
        "outputId": "4f791d24-4128-4090-9f4e-74dfd632d0ed"
      },
      "outputs": [
        {
          "name": "stdout",
          "output_type": "stream",
          "text": [
            "Using regexes : ['Consumers', 'have', 'increased', 'their', 'online', 'shopping', 'due', 'to', 'coronavirus', 'https', 't', 'co', '5mYfz3RAD0', 'retail', 'ecommerce', 'study', 'coronavirus', 'https', 't', 'co', 'Dz3H6zrWUT']\n"
          ]
        }
      ],
      "source": [
        "# Using 're' library to work with regular expression.\n",
        "\n",
        "tokens = re.findall(\"[\\w']+\", tweet)\n",
        "print('Using regexes :',tokens)"
      ],
      "id": "a99jALZAn1gS"
    },
    {
      "cell_type": "markdown",
      "metadata": {
        "id": "Mwq0pMazQ7Bu"
      },
      "source": [
        "### Python already has modules for collecting, handling, and processing text data.\n",
        "\n",
        "\n",
        "> **Using Natural Language Toolkit (NLTK) package.**\n",
        "\n"
      ],
      "id": "Mwq0pMazQ7Bu"
    },
    {
      "cell_type": "markdown",
      "metadata": {
        "id": "8xXjkvRUQ7Bu"
      },
      "source": [
        "* NLTK contains a module called `tokenize`, which has the `word_tokenize()` method to split a sentence into tokens."
      ],
      "id": "8xXjkvRUQ7Bu"
    },
    {
      "cell_type": "code",
      "execution_count": null,
      "metadata": {
        "colab": {
          "base_uri": "https://localhost:8080/"
        },
        "id": "EL5ZJQYO4MuI",
        "outputId": "71a6a6f4-b42b-410c-8516-f223dcb3305d"
      },
      "outputs": [
        {
          "name": "stdout",
          "output_type": "stream",
          "text": [
            "Using NLTK : ['Consumers', 'have', 'increased', 'their', 'online', 'shopping', 'due', 'to', 'coronavirus', '.', 'https', ':', '//t.co/5mYfz3RAD0', '#', 'retail', '#', 'ecommerce', '#', 'study', '#', 'coronavirus', 'https', ':', '//t.co/Dz3H6zrWUT']\n"
          ]
        }
      ],
      "source": [
        "from nltk.tokenize import word_tokenize\n",
        "\n",
        "words = word_tokenize(tweet)\n",
        "print('Using NLTK :',words)"
      ],
      "id": "EL5ZJQYO4MuI"
    },
    {
      "cell_type": "markdown",
      "metadata": {
        "id": "kDVA193mQ7Bu"
      },
      "source": [
        "**Note:** `word_tokenize()` is considering punctuation as a token. Hence we need to remove the punctuations from the initial list.\n",
        "\n"
      ],
      "id": "kDVA193mQ7Bu"
    },
    {
      "cell_type": "markdown",
      "metadata": {
        "id": "aLGWi1sqQ7Bv"
      },
      "source": [
        "### How to tokenize into a Sentence?\n",
        "\n",
        "\n",
        "\n",
        "*   A sentence usually ends with a full stop `.`, so we can use `.` as a separator to break the string:\n",
        "\n"
      ],
      "id": "aLGWi1sqQ7Bv"
    },
    {
      "cell_type": "code",
      "execution_count": null,
      "metadata": {
        "colab": {
          "base_uri": "https://localhost:8080/"
        },
        "id": "UjYh518NQ7Bv",
        "outputId": "d9e81a1f-7c79-432b-9221-ec14353f183c"
      },
      "outputs": [
        {
          "name": "stdout",
          "output_type": "stream",
          "text": [
            "Using Splits : ['Consumers have increased their online shopping due to coronavirus', 'https://t.co/5mYfz3RAD0 #retail #ecommerce #study #coronavirus https://t.co/Dz3H6zrWUT']\n",
            "Using regexes : ['Consumers have increased their online shopping due to coronavirus', 'https://t.co/5mYfz3RAD0 #retail #ecommerce #study #coronavirus https://t.co/Dz3H6zrWUT']\n"
          ]
        }
      ],
      "source": [
        "# Splits at '.'\n",
        "splits = tweet.split('. ')\n",
        "print('Using Splits :',splits)\n",
        "# Using Regular Expressions (RegEx)\n",
        "sentence_splits = re.compile('[.!?] ').split(tweet)\n",
        "print('Using regexes :',sentence_splits)"
      ],
      "id": "UjYh518NQ7Bv"
    },
    {
      "cell_type": "markdown",
      "metadata": {
        "id": "4eFl94DUQ7Bv"
      },
      "source": [
        "**Note:** a drawback of using Python’s `split()` method is that we can use only one separator at a time.\n",
        "\n"
      ],
      "id": "4eFl94DUQ7Bv"
    },
    {
      "cell_type": "markdown",
      "metadata": {
        "id": "5qQn65egHCbm"
      },
      "source": [
        "<details>\n",
        "<summary>\n",
        "    <font size=\"5\" color=\"\"><b>Python split() VS nltk sent_tokenize</b></font>\n",
        "</summary>\n",
        "<p>\n",
        "\n",
        "**Cosider an example:**\n",
        "\n",
        "```\n",
        "eg_sentence = \"Dr. A. P. J. Abdul Kalam was the Former President of India and a world-renowned Space Scientist.\"\n",
        "\n",
        "Using split :\n",
        "['Dr', 'A', 'P', 'J', 'Abdul Kalam was the Former President of India and a world-renowned Space Scientist']\n",
        "\n",
        "Using NLTK sent_tokenize:\n",
        "['Dr. A. P. J. Abdul Kalam was the Former President of India and a world-renowned Space Scientist.']\n",
        "```\n",
        "\n",
        "<ol>\n",
        "<li>  \n",
        "Here, the python split() function made the mistake of tokenizing the name.\n",
        "</li>\n",
        "\n",
        "<li>  \n",
        "To properly tokenize such function we require a sequence of RegEx functions.\n",
        "</li>\n",
        "\n",
        "<li>  \n",
        "NLTK has pre-defined functions to handle such conditions.\n",
        "</li>\n",
        "</ol>\n",
        "</p>\n",
        "</details>\n",
        "\n",
        "\n",
        "\n"
      ],
      "id": "5qQn65egHCbm"
    },
    {
      "cell_type": "code",
      "execution_count": null,
      "metadata": {
        "colab": {
          "base_uri": "https://localhost:8080/"
        },
        "id": "p4cKthcYQ7Bv",
        "outputId": "b2c183eb-fee7-4630-d73e-57e18cd07538"
      },
      "outputs": [
        {
          "name": "stdout",
          "output_type": "stream",
          "text": [
            "Using NLTK : ['Consumers have increased their online shopping due to coronavirus.', 'https://t.co/5mYfz3RAD0 #retail #ecommerce #study #coronavirus https://t.co/Dz3H6zrWUT']\n"
          ]
        }
      ],
      "source": [
        "# Using NLTK\n",
        "from nltk.tokenize import sent_tokenize\n",
        "sentence_splits = sent_tokenize(tweet)\n",
        "print('Using NLTK :',sentence_splits)"
      ],
      "id": "p4cKthcYQ7Bv"
    },
    {
      "cell_type": "code",
      "execution_count": null,
      "metadata": {
        "id": "F9PbbTuzMBaV"
      },
      "outputs": [],
      "source": [
        "import nltk                                # Python library for NLP\n",
        "from nltk.corpus import twitter_samples    # sample Twitter dataset from NLTK\n",
        "from nltk.corpus import stopwords          # module for stop words that come with NLTK\n",
        "from nltk.stem import PorterStemmer        # module for stemming\n",
        "from nltk.tokenize import TweetTokenizer"
      ],
      "id": "F9PbbTuzMBaV"
    },
    {
      "cell_type": "code",
      "execution_count": null,
      "metadata": {
        "colab": {
          "base_uri": "https://localhost:8080/",
          "height": 36
        },
        "id": "06etZaFHgFJN",
        "outputId": "e82a884f-382e-492e-d266-1aabf941f489"
      },
      "outputs": [
        {
          "data": {
            "application/vnd.google.colaboratory.intrinsic+json": {
              "type": "string"
            },
            "text/plain": [
              "'Consumers have increased their online shopping due to coronavirus. https://t.co/5mYfz3RAD0 #retail #ecommerce #study #coronavirus https://t.co/Dz3H6zrWUT'"
            ]
          },
          "execution_count": 67,
          "metadata": {},
          "output_type": "execute_result"
        }
      ],
      "source": [
        "# Our selected sample. Complex enough to exemplify each step\n",
        "tweet = all_positive_tweets[12]\n",
        "tweet"
      ],
      "id": "06etZaFHgFJN"
    },
    {
      "cell_type": "code",
      "execution_count": null,
      "metadata": {
        "colab": {
          "base_uri": "https://localhost:8080/"
        },
        "id": "0ZhOatmUgYL1",
        "outputId": "7d31ca47-7554-41d8-ee7f-2f38aca36c02"
      },
      "outputs": [
        {
          "name": "stdout",
          "output_type": "stream",
          "text": [
            "\u001b[92mConsumers have increased their online shopping due to coronavirus. https://t.co/5mYfz3RAD0 #retail #ecommerce #study #coronavirus https://t.co/Dz3H6zrWUT\n",
            "\u001b[94m\n",
            "Consumers have increased their online shopping due to coronavirus.  retail ecommerce study coronavirus \n"
          ]
        }
      ],
      "source": [
        "# Removing hyperlinks and hashtags\n",
        "\n",
        "print('\\033[92m' + tweet)\n",
        "print('\\033[94m')\n",
        "\n",
        "# remove old style retweet text \"RT\"\n",
        "tweet2 = re.sub(r'^RT[\\s]+', '', tweet)\n",
        "\n",
        "# remove hyperlinks\n",
        "tweet2 = re.sub(r'https?://[^\\s\\n\\r]+', '', tweet2)\n",
        "\n",
        "# remove hashtags\n",
        "# only removing the hash # sign from the word\n",
        "tweet2 = re.sub(r'#', '', tweet2)\n",
        "print(tweet2)"
      ],
      "id": "0ZhOatmUgYL1"
    },
    {
      "cell_type": "code",
      "execution_count": null,
      "metadata": {
        "colab": {
          "base_uri": "https://localhost:8080/"
        },
        "id": "gYodB6VhgoQf",
        "outputId": "d8c05f39-6092-402a-cddd-00e15bdf375c"
      },
      "outputs": [
        {
          "name": "stdout",
          "output_type": "stream",
          "text": [
            "\n",
            "\u001b[92mConsumers have increased their online shopping due to coronavirus.  retail ecommerce study coronavirus \n",
            "\u001b[94m\n",
            "\n",
            "Tokenized string:\n",
            "['consumers', 'have', 'increased', 'their', 'online', 'shopping', 'due', 'to', 'coronavirus', '.', 'retail', 'ecommerce', 'study', 'coronavirus']\n"
          ]
        }
      ],
      "source": [
        "# Tokenizing\n",
        "\n",
        "print()\n",
        "print('\\033[92m' + tweet2)\n",
        "print('\\033[94m')\n",
        "\n",
        "# instantiate tokenizer class\n",
        "tokenizer = TweetTokenizer(preserve_case=False, strip_handles=True,\n",
        "                               reduce_len=True)\n",
        "\n",
        "# tokenize tweets\n",
        "tweet_tokens = tokenizer.tokenize(tweet2)\n",
        "\n",
        "print()\n",
        "print('Tokenized string:')\n",
        "print(tweet_tokens)"
      ],
      "id": "gYodB6VhgoQf"
    },
    {
      "cell_type": "code",
      "execution_count": null,
      "metadata": {
        "colab": {
          "base_uri": "https://localhost:8080/"
        },
        "id": "FR2p1WwIg7LD",
        "outputId": "4d6bbb55-595d-497d-d5ed-e86e00188c5a"
      },
      "outputs": [
        {
          "name": "stdout",
          "output_type": "stream",
          "text": [
            "Stop words\n",
            "\n",
            "['i', 'me', 'my', 'myself', 'we', 'our', 'ours', 'ourselves', 'you', \"you're\", \"you've\", \"you'll\", \"you'd\", 'your', 'yours', 'yourself', 'yourselves', 'he', 'him', 'his', 'himself', 'she', \"she's\", 'her', 'hers', 'herself', 'it', \"it's\", 'its', 'itself', 'they', 'them', 'their', 'theirs', 'themselves', 'what', 'which', 'who', 'whom', 'this', 'that', \"that'll\", 'these', 'those', 'am', 'is', 'are', 'was', 'were', 'be', 'been', 'being', 'have', 'has', 'had', 'having', 'do', 'does', 'did', 'doing', 'a', 'an', 'the', 'and', 'but', 'if', 'or', 'because', 'as', 'until', 'while', 'of', 'at', 'by', 'for', 'with', 'about', 'against', 'between', 'into', 'through', 'during', 'before', 'after', 'above', 'below', 'to', 'from', 'up', 'down', 'in', 'out', 'on', 'off', 'over', 'under', 'again', 'further', 'then', 'once', 'here', 'there', 'when', 'where', 'why', 'how', 'all', 'any', 'both', 'each', 'few', 'more', 'most', 'other', 'some', 'such', 'no', 'nor', 'not', 'only', 'own', 'same', 'so', 'than', 'too', 'very', 's', 't', 'can', 'will', 'just', 'don', \"don't\", 'should', \"should've\", 'now', 'd', 'll', 'm', 'o', 're', 've', 'y', 'ain', 'aren', \"aren't\", 'couldn', \"couldn't\", 'didn', \"didn't\", 'doesn', \"doesn't\", 'hadn', \"hadn't\", 'hasn', \"hasn't\", 'haven', \"haven't\", 'isn', \"isn't\", 'ma', 'mightn', \"mightn't\", 'mustn', \"mustn't\", 'needn', \"needn't\", 'shan', \"shan't\", 'shouldn', \"shouldn't\", 'wasn', \"wasn't\", 'weren', \"weren't\", 'won', \"won't\", 'wouldn', \"wouldn't\"]\n",
            "\n",
            "Punctuation\n",
            "\n",
            "!\"#$%&'()*+,-./:;<=>?@[\\]^_`{|}~\n"
          ]
        },
        {
          "name": "stderr",
          "output_type": "stream",
          "text": [
            "[nltk_data] Downloading package stopwords to /root/nltk_data...\n",
            "[nltk_data]   Package stopwords is already up-to-date!\n"
          ]
        }
      ],
      "source": [
        "# Import the english stop words list from NLTK\n",
        "nltk.download(\"stopwords\")\n",
        "stopwords_english = stopwords.words('english')\n",
        "\n",
        "print('Stop words\\n')\n",
        "print(stopwords_english)\n",
        "\n",
        "print('\\nPunctuation\\n')\n",
        "print(string.punctuation)"
      ],
      "id": "FR2p1WwIg7LD"
    },
    {
      "cell_type": "code",
      "execution_count": null,
      "metadata": {
        "colab": {
          "base_uri": "https://localhost:8080/"
        },
        "id": "8-c1QSE_hEF2",
        "outputId": "89e59612-e53f-440d-b4f7-7512357022b1"
      },
      "outputs": [
        {
          "name": "stdout",
          "output_type": "stream",
          "text": [
            "\n",
            "\u001b[92m\n",
            "['consumers', 'have', 'increased', 'their', 'online', 'shopping', 'due', 'to', 'coronavirus', '.', 'retail', 'ecommerce', 'study', 'coronavirus']\n",
            "\u001b[94m\n",
            "removed stop words and punctuation:\n",
            "['consumers', 'increased', 'online', 'shopping', 'due', 'coronavirus', 'retail', 'ecommerce', 'study', 'coronavirus']\n"
          ]
        }
      ],
      "source": [
        "print()\n",
        "print('\\033[92m')\n",
        "print(tweet_tokens)\n",
        "print('\\033[94m')\n",
        "\n",
        "tweets_clean = []\n",
        "\n",
        "for word in tweet_tokens: # Go through every word in your tokens list\n",
        "    if (word not in stopwords_english and  # remove stopwords\n",
        "        word not in string.punctuation):  # remove punctuation\n",
        "        tweets_clean.append(word)\n",
        "\n",
        "print('removed stop words and punctuation:')\n",
        "print(tweets_clean)"
      ],
      "id": "8-c1QSE_hEF2"
    },
    {
      "cell_type": "code",
      "execution_count": null,
      "metadata": {
        "colab": {
          "base_uri": "https://localhost:8080/"
        },
        "id": "bg96AAVChJO7",
        "outputId": "dcdc5b17-0d70-4f54-b4b1-96362c8ace19"
      },
      "outputs": [
        {
          "name": "stdout",
          "output_type": "stream",
          "text": [
            "\n",
            "\u001b[92m\n",
            "['consumers', 'increased', 'online', 'shopping', 'due', 'coronavirus', 'retail', 'ecommerce', 'study', 'coronavirus']\n",
            "\u001b[94m\n",
            "stemmed words:\n",
            "['consum', 'increas', 'onlin', 'shop', 'due', 'coronaviru', 'retail', 'ecommerc', 'studi', 'coronaviru']\n"
          ]
        }
      ],
      "source": [
        "print()\n",
        "print('\\033[92m')\n",
        "print(tweets_clean)\n",
        "print('\\033[94m')\n",
        "\n",
        "# Instantiate stemming class\n",
        "stemmer = PorterStemmer()\n",
        "\n",
        "# Create an empty list to store the stems\n",
        "tweets_stem = []\n",
        "\n",
        "for word in tweets_clean:\n",
        "    stem_word = stemmer.stem(word)  # stemming word\n",
        "    tweets_stem.append(stem_word)  # append to the list\n",
        "\n",
        "print('stemmed words:')\n",
        "print(tweets_stem)"
      ],
      "id": "bg96AAVChJO7"
    },
    {
      "cell_type": "code",
      "execution_count": null,
      "metadata": {
        "id": "VlH0B_FZhPVb"
      },
      "outputs": [],
      "source": [
        "def process_tweet(tweet):\n",
        "    stemmer = PorterStemmer()\n",
        "    stopwords_english = stopwords.words('english')\n",
        "    # remove stock market tickers like $GE\n",
        "    tweet = re.sub(r'\\$\\w*', '', tweet)\n",
        "    # remove old style retweet text \"RT\"\n",
        "    tweet = re.sub(r'^RT[\\s]+', '', tweet)\n",
        "    # remove hyperlinks\n",
        "    tweet = re.sub(r'https?://[^\\s\\n\\r]+', '', tweet)\n",
        "    # remove hashtags\n",
        "    # only removing the hash # sign from the word\n",
        "    tweet = re.sub(r'#', '', tweet)\n",
        "    # tokenize tweets\n",
        "    tokenizer = TweetTokenizer(preserve_case=False, strip_handles=True,\n",
        "                               reduce_len=True)\n",
        "    tweet_tokens = tokenizer.tokenize(tweet)\n",
        "\n",
        "    tweets_clean = []\n",
        "    for word in tweet_tokens:\n",
        "        if (word not in stopwords_english and  # remove stopwords\n",
        "                word not in string.punctuation):  # remove punctuation\n",
        "            # tweets_clean.append(word)\n",
        "            stem_word = stemmer.stem(word)  # stemming word\n",
        "            tweets_clean.append(stem_word)\n",
        "\n",
        "    return tweets_clean"
      ],
      "id": "VlH0B_FZhPVb"
    },
    {
      "cell_type": "code",
      "execution_count": null,
      "metadata": {
        "colab": {
          "base_uri": "https://localhost:8080/"
        },
        "id": "D0Y9hDRvhWaZ",
        "outputId": "f6becdeb-5945-4186-ee35-773c1635c266"
      },
      "outputs": [
        {
          "name": "stdout",
          "output_type": "stream",
          "text": [
            "\n",
            "\u001b[92m\n",
            "Consumers have increased their online shopping due to coronavirus. https://t.co/5mYfz3RAD0 #retail #ecommerce #study #coronavirus https://t.co/Dz3H6zrWUT\n",
            "\u001b[94m\n",
            "preprocessed tweet:\n",
            "['consum', 'increas', 'onlin', 'shop', 'due', 'coronaviru', 'retail', 'ecommerc', 'studi', 'coronaviru']\n"
          ]
        }
      ],
      "source": [
        "# choose the same tweet\n",
        "tweet = all_positive_tweets[12]\n",
        "\n",
        "print()\n",
        "print('\\033[92m')\n",
        "print(tweet)\n",
        "print('\\033[94m')\n",
        "\n",
        "# call the imported function\n",
        "tweets_stem = process_tweet(tweet); # Preprocess a given tweet\n",
        "\n",
        "print('preprocessed tweet:')\n",
        "print(tweets_stem) # Print the result"
      ],
      "id": "D0Y9hDRvhWaZ"
    },
    {
      "cell_type": "code",
      "execution_count": null,
      "metadata": {
        "colab": {
          "base_uri": "https://localhost:8080/"
        },
        "id": "ACN9st4Qht1v",
        "outputId": "899dd76d-4299-44c3-c34e-6f469623dbe0"
      },
      "outputs": [
        {
          "data": {
            "text/plain": [
              "[['void', 1, 0],\n",
              " ['commun', 15, 10],\n",
              " ['spirit', 1, 2],\n",
              " ['stop', 14, 32],\n",
              " ['merri', 0, 0],\n",
              " ['nice', 6, 6],\n",
              " ['good', 49, 28],\n",
              " ['bad', 1, 8],\n",
              " ['sad', 0, 5],\n",
              " ['mad', 2, 8],\n",
              " ['best', 7, 3],\n",
              " ['pretti', 6, 3],\n",
              " [':)', 1, 1],\n",
              " [':(', 3, 0],\n",
              " ['song', 2, 0],\n",
              " ['idea', 6, 8],\n",
              " ['power', 5, 0],\n",
              " ['play', 8, 1]]"
            ]
          },
          "execution_count": 78,
          "metadata": {},
          "output_type": "execute_result"
        }
      ],
      "source": [
        "# select some words to appear in the report.\n",
        "keys = ['void', 'commun', 'spirit', 'stop', 'merri', 'nice', 'good', 'bad', 'sad', 'mad', 'best', 'pretti',\n",
        "        ':)', ':(', 'song', 'idea', 'power', 'play']\n",
        "\n",
        "# list representing our table of word counts.\n",
        "# each element consist of a sublist with this pattern: [<word>, <positive_count>, <negative_count>]\n",
        "data = []\n",
        "\n",
        "# loop through our selected words\n",
        "for word in keys:\n",
        "\n",
        "    # initialize positive and negative counts\n",
        "    pos = 0\n",
        "    neg = 0\n",
        "\n",
        "    # retrieve number of positive counts\n",
        "    if (word, 1) in freqs:\n",
        "        pos = freqs[(word, 1)]\n",
        "\n",
        "    # retrieve number of negative counts\n",
        "    if (word, 0) in freqs:\n",
        "        neg = freqs[(word, 0)]\n",
        "\n",
        "    # append the word counts to the table\n",
        "    data.append([word, pos, neg])\n",
        "\n",
        "data"
      ],
      "id": "ACN9st4Qht1v"
    },
    {
      "cell_type": "code",
      "execution_count": null,
      "metadata": {
        "colab": {
          "base_uri": "https://localhost:8080/",
          "height": 497
        },
        "id": "dhNzQRcuhz4e",
        "outputId": "58d9958e-df63-4685-9456-3fe0bd84239e"
      },
      "outputs": [
        {
          "data": {
            "image/png": "[encoded data removed]",
            "text/plain": [
              "<Figure size 576x576 with 1 Axes>"
            ]
          },
          "metadata": {},
          "output_type": "display_data"
        }
      ],
      "source": [
        "fig, ax = plt.subplots(figsize = (8, 8))\n",
        "\n",
        "# convert positive raw counts to logarithmic scale. we add 1 to avoid log(0)\n",
        "x = np.log([x[1] + 1 for x in data])\n",
        "\n",
        "# do the same for the negative counts\n",
        "y = np.log([x[2] + 1 for x in data])\n",
        "\n",
        "# Plot a dot for each pair of words\n",
        "ax.scatter(x, y)\n",
        "\n",
        "# assign axis labels\n",
        "plt.xlabel(\"Log Positive count\")\n",
        "plt.ylabel(\"Log Negative count\")\n",
        "\n",
        "# Add the word as the label at the same position as you added the points just before\n",
        "for i in range(0, len(data)):\n",
        "    ax.annotate(data[i][0], (x[i], y[i]), fontsize=12)\n",
        "\n",
        "ax.plot([0, 9], [0, 9], color = 'brown') # Plot the red line that divides the 2 areas.\n",
        "plt.show()"
      ],
      "id": "dhNzQRcuhz4e"
    },
    {
      "cell_type": "markdown",
      "metadata": {
        "id": "gBnO1oPCrEop"
      },
      "source": [
        "### Extracting features function."
      ],
      "id": "gBnO1oPCrEop"
    },
    {
      "cell_type": "code",
      "execution_count": null,
      "metadata": {
        "id": "saDyojPCh9lq"
      },
      "outputs": [],
      "source": [
        "def extract_features(tweet, freqs):\n",
        "    '''\n",
        "        tweet: a list of words for one tweet\n",
        "        freqs: a dictionary corresponding to the frequencies of each tuple (word, label)\n",
        "        x: a feature vector of dimension (1,3)\n",
        "    '''\n",
        "    # process_tweet tokenizes, stems, and removes stopwords\n",
        "    word_l = process_tweet(tweet)\n",
        "    # 3 elements in the form of a 1 x 3 vector\n",
        "    x = np.zeros((1, 3))\n",
        "\n",
        "    #bias term is set to 1\n",
        "    x[0,0] = 1\n",
        "\n",
        "    # loop through each word in the list of words\n",
        "    for word in word_l:\n",
        "\n",
        "        # increment the word count for the positive label 1\n",
        "        x[0,1] += freqs.get((word, 1.0),0)\n",
        "\n",
        "        # increment the word count for the negative label 0\n",
        "        x[0,2] += freqs.get((word, 0.0),0)\n",
        "\n",
        "    assert(x.shape == (1, 3))\n",
        "    return x"
      ],
      "id": "saDyojPCh9lq"
    },
    {
      "cell_type": "markdown",
      "metadata": {
        "id": "2sGY9dBzpc7X"
      },
      "source": [
        "### Example 1: feature extraction for a tweet"
      ],
      "id": "2sGY9dBzpc7X"
    },
    {
      "cell_type": "code",
      "execution_count": null,
      "metadata": {
        "colab": {
          "base_uri": "https://localhost:8080/"
        },
        "id": "fj3kTg2SrvTT",
        "outputId": "8fa18b9d-5b0a-4f1b-d3f0-cf793423591f"
      },
      "outputs": [
        {
          "name": "stdout",
          "output_type": "stream",
          "text": [
            "[[1.000e+00 2.284e+03 2.482e+03]]\n"
          ]
        }
      ],
      "source": [
        "train_x = training_tweets\n",
        "tmp1 = extract_features(train_x[0], freqs)\n",
        "print(tmp1)"
      ],
      "id": "fj3kTg2SrvTT"
    },
    {
      "cell_type": "markdown",
      "metadata": {
        "id": "PeJxiZPMPQ4Y"
      },
      "source": [
        "### Example 2: feature extraction for a random string"
      ],
      "id": "PeJxiZPMPQ4Y"
    },
    {
      "cell_type": "code",
      "execution_count": null,
      "metadata": {
        "colab": {
          "base_uri": "https://localhost:8080/"
        },
        "id": "Cse-gnucsdb0",
        "outputId": "a4ac56a4-7910-42ab-a9c4-b6478ed9b0e0"
      },
      "outputs": [
        {
          "name": "stdout",
          "output_type": "stream",
          "text": [
            "[[ 1. 11.  3.]]\n"
          ]
        }
      ],
      "source": [
        "tmp2 = extract_features('This batch is the best batch', freqs)\n",
        "print(tmp2)"
      ],
      "id": "Cse-gnucsdb0"
    },
    {
      "cell_type": "markdown",
      "metadata": {
        "id": "SCos2NQ4p0AM"
      },
      "source": [
        "### Preparing training data"
      ],
      "id": "SCos2NQ4p0AM"
    },
    {
      "cell_type": "code",
      "execution_count": null,
      "metadata": {
        "colab": {
          "background_save": true
        },
        "id": "4eIBtxyzsllx"
      },
      "outputs": [],
      "source": [
        "# collect the features 'x' and stack them into a matrix 'X'\n",
        "X = np.zeros((len(train_x), 3))\n",
        "for i in range(len(train_x)):\n",
        "    X[i, :]= extract_features(train_x[i], freqs)\n",
        "\n",
        "# training labels corresponding to X\n",
        "train_y = np.append(np.ones((len(positive_train), 1)), np.zeros((len(negative_train), 1)), axis=0)\n",
        "Y = np.ravel(train_y,order='C')"
      ],
      "id": "4eIBtxyzsllx"
    },
    {
      "cell_type": "markdown",
      "metadata": {
        "id": "TDAT3yJR6x8H"
      },
      "source": [
        "\n",
        "\n",
        "## 1.6 Using the most basic model to classify\n",
        "\n",
        "\n"
      ],
      "id": "TDAT3yJR6x8H"
    },
    {
      "cell_type": "markdown",
      "metadata": {
        "id": "u6FkQlnO5fje"
      },
      "source": [
        "<details>\n",
        "<summary>\n",
        "    <font size=\"3\" color=\"\"><b>Answer</b></font>\n",
        "</summary>\n",
        "<p>\n",
        "<ul>\n",
        "    <li>Logistic Regression.</li>\n",
        "</ul>\n",
        "</p>"
      ],
      "id": "u6FkQlnO5fje"
    },
    {
      "cell_type": "code",
      "execution_count": null,
      "metadata": {
        "colab": {
          "background_save": true,
          "base_uri": "https://localhost:8080/"
        },
        "id": "3yzsY5oPtYwY",
        "outputId": "50a02531-e20d-4a17-b838-fb75329c44e2"
      },
      "outputs": [
        {
          "name": "stdout",
          "output_type": "stream",
          "text": [
            "Training Accuracy:  0.678996036988111\n"
          ]
        }
      ],
      "source": [
        "from sklearn.linear_model import LogisticRegression\n",
        "clf = LogisticRegression().fit(X, Y)\n",
        "\n",
        "print(\"Training Accuracy: \",clf.score(X, Y))"
      ],
      "id": "3yzsY5oPtYwY"
    },
    {
      "cell_type": "markdown",
      "metadata": {
        "id": "jjMfzapJ4teb"
      },
      "source": [
        "### Check performance on test set"
      ],
      "id": "jjMfzapJ4teb"
    },
    {
      "cell_type": "code",
      "execution_count": null,
      "metadata": {
        "colab": {
          "background_save": true,
          "base_uri": "https://localhost:8080/"
        },
        "id": "yylIaJtevVUk",
        "outputId": "52c5c888-9ec6-4e3a-b40d-71445c258867"
      },
      "outputs": [
        {
          "name": "stdout",
          "output_type": "stream",
          "text": [
            "Testing Accuracy:  0.55\n"
          ]
        }
      ],
      "source": [
        "# Testing\n",
        "testing_tweets = positive_test + negative_test\n",
        "\n",
        "test_X = np.zeros((len(testing_tweets), 3))\n",
        "for i in range(len(testing_tweets)):\n",
        "    test_X[i, :]= extract_features(testing_tweets[i], freqs)\n",
        "\n",
        "# training labels corresponding to X\n",
        "test_y = np.append(np.ones((len(positive_test), 1)), np.zeros((len(negative_test), 1)), axis=0)\n",
        "test_Y = np.ravel(test_y,order='C')\n",
        "\n",
        "print(\"Testing Accuracy: \",clf.score(test_X, test_Y))"
      ],
      "id": "yylIaJtevVUk"
    },
    {
      "cell_type": "markdown",
      "metadata": {
        "id": "rr6CWk-540TS"
      },
      "source": [
        "### Predict whether a tweet is positive or negative.\n",
        "\n",
        "**Note:** classify 1, for a positive sentiment, and 0, for a negative sentiment."
      ],
      "id": "rr6CWk-540TS"
    },
    {
      "cell_type": "code",
      "execution_count": null,
      "metadata": {
        "colab": {
          "base_uri": "https://localhost:8080/"
        },
        "id": "3QliyEkHiNsg",
        "outputId": "9cf16308-39f0-48de-beaa-70ade606fa68"
      },
      "outputs": [
        {
          "output_type": "stream",
          "name": "stdout",
          "text": [
            "\u001b[92mThank God coronovirus is over -> 1.000000\n",
            "\u001b[91mThis is seriously ridiculous. Stop hoarding -> 0.000000\n",
            "\u001b[92mGovernment efforts are great. -> 1.000000\n",
            "\u001b[93mNonsense -> 1.000000\n",
            "\u001b[91mPanic-buying is pushing up prices.#coronavirus -> 0.000000\n",
            "\u001b[92mTHANK YOU to make hand sanitizer in distillery amid outbreak -> 1.000000\n"
          ]
        }
      ],
      "source": [
        "def predict_custom_tweet(tweet, freqs):\n",
        "    x = extract_features(tweet,freqs)\n",
        "    y_pred = clf.predict(x)\n",
        "    return y_pred\n",
        "\n",
        "# test your function\n",
        "list_of_tweets = ['\\033[92m'+'Thank God coronovirus is over',\n",
        "                  '\\033[91m'+'This is seriously ridiculous. Stop hoarding',\n",
        "                  '\\033[92m'+'Government efforts are great.',\n",
        "                  '\\033[93m'+'Nonsense', #anomaly in classification\n",
        "                  '\\033[91m'+'Panic-buying is pushing up prices.#coronavirus',\n",
        "                  '\\033[92m'+'THANK YOU to make hand sanitizer in distillery amid outbreak']\n",
        "\n",
        "for tweet in list_of_tweets:\n",
        "    print( '%s -> %f' % (tweet, predict_custom_tweet(tweet, freqs)))"
      ],
      "id": "3QliyEkHiNsg"
    }
  ],
  "metadata": {
    "colab": {
      "provenance": [],
      "include_colab_link": true
    },
    "kernelspec": {
      "display_name": "Python 3 (ipykernel)",
      "language": "python",
      "name": "python3"
    },
    "language_info": {
      "codemirror_mode": {
        "name": "ipython",
        "version": 3
      },
      "file_extension": ".py",
      "mimetype": "text/x-python",
      "name": "python",
      "nbconvert_exporter": "python",
      "pygments_lexer": "ipython3",
      "version": "3.9.7"
    }
  },
  "nbformat": 4,
  "nbformat_minor": 5
}